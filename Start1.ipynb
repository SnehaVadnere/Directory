{
 "cells": [
  {
   "cell_type": "raw",
   "id": "84bc6be2",
   "metadata": {},
   "source": [
    "ifjeri\n",
    "efwrv\n",
    "dqre\n",
    "aww\n",
    "dgwetvserwf\n",
    "fg\n",
    "qwDsdvdCaweqwfcsc\n",
    "rwfd\n",
    "rwr\n",
    "rwef\n",
    "rr\n",
    "ft\n",
    "asfwe4\n",
    "ffwtthg\n",
    "bhrywfac\n",
    "sf\n"
   ]
  },
  {
   "cell_type": "code",
   "execution_count": 1,
   "id": "d7dd7deb",
   "metadata": {},
   "outputs": [
    {
     "ename": "SyntaxError",
     "evalue": "invalid syntax (779670557.py, line 1)",
     "output_type": "error",
     "traceback": [
      "\u001b[1;36m  File \u001b[1;32m\"C:\\Users\\Administrator\\AppData\\Local\\Temp\\ipykernel_6032\\779670557.py\"\u001b[1;36m, line \u001b[1;32m1\u001b[0m\n\u001b[1;33m    4sjvdbft\\uweferdf\u001b[0m\n\u001b[1;37m     ^\u001b[0m\n\u001b[1;31mSyntaxError\u001b[0m\u001b[1;31m:\u001b[0m invalid syntax\n"
     ]
    }
   ],
   "source": [
    "4sjvdbft\\uweferdf\n",
    "fwrweca\n",
    "sdcc d\n",
    "dewef\n",
    "qwee\n",
    "gbdfg5u\n",
    "6tgtry567\n",
    "b5674y\n",
    "d\n",
    "hu6fgn756\n",
    "76hg\n",
    "56g\n",
    "h"
   ]
  },
  {
   "cell_type": "code",
   "execution_count": null,
   "id": "4a68f9d4",
   "metadata": {},
   "outputs": [],
   "source": []
  }
 ],
 "metadata": {
  "kernelspec": {
   "display_name": "Python 3 (ipykernel)",
   "language": "python",
   "name": "python3"
  },
  "language_info": {
   "codemirror_mode": {
    "name": "ipython",
    "version": 3
   },
   "file_extension": ".py",
   "mimetype": "text/x-python",
   "name": "python",
   "nbconvert_exporter": "python",
   "pygments_lexer": "ipython3",
   "version": "3.9.13"
  }
 },
 "nbformat": 4,
 "nbformat_minor": 5
}
